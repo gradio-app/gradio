{
 "cells": [
  {
   "cell_type": "code",
   "execution_count": 1,
   "id": "4f5778e0-4194-47bf-83a4-f31ddeda3fd1",
   "metadata": {},
   "outputs": [
    {
     "name": "stdout",
     "output_type": "stream",
     "text": [
      "* Running on local URL:  http://127.0.0.1:7862\n",
      "* To create a public link, set `share=True` in `launch()`.\n"
     ]
    },
    {
     "data": {
      "text/html": [
       "<div><iframe src=\"http://127.0.0.1:7862/\" width=\"100%\" height=\"500\" allow=\"autoplay; camera; microphone; clipboard-read; clipboard-write;\" frameborder=\"0\" allowfullscreen></iframe></div>"
      ],
      "text/plain": [
       "<IPython.core.display.HTML object>"
      ]
     },
     "metadata": {},
     "output_type": "display_data"
    },
    {
     "data": {
      "text/plain": []
     },
     "execution_count": 1,
     "metadata": {},
     "output_type": "execute_result"
    }
   ],
   "source": [
    "import numpy as np\n",
    "import gradio as gr\n",
    "\n",
    "def outList():\n",
    "    r = np.random.randint(0, 10, (10000, 10)).tolist()\n",
    "    return r\n",
    "\n",
    "def outDataFrame():\n",
    "    r = np.random.randint(0, 10, (10000, 10)).tolist()\n",
    "    return gr.DataFrame(value=r)\n",
    "\n",
    "def outUpdate():\n",
    "    r = np.random.randint(0, 10, (10000, 10)).tolist()\n",
    "    return gr.update(value=r)\n",
    "\n",
    "with gr.Blocks() as demo:\n",
    "    with gr.Row():\n",
    "        useList = gr.Button(\"Use np.tolist\")\n",
    "        useDataFrame = gr.Button(\"Use gr.DataFrame\")\n",
    "        useUpdate = gr.Button(\"Use gr.update\")\n",
    "    with gr.Row():\n",
    "        out = gr.Dataframe()\n",
    "    useList.click(fn=outList, inputs=None, outputs=out)\n",
    "    useDataFrame.click(fn=outDataFrame, inputs=None, outputs=out)\n",
    "    useUpdate.click(fn=outUpdate, inputs=None, outputs=out)\n",
    "\n",
    "demo.launch()"
   ]
  },
  {
   "cell_type": "code",
   "execution_count": 2,
   "id": "596d8e78-76f3-445a-84b8-813caf453810",
   "metadata": {},
   "outputs": [
    {
     "name": "stdout",
     "output_type": "stream",
     "text": [
      "* Running on local URL:  http://127.0.0.1:7863\n",
      "* To create a public link, set `share=True` in `launch()`.\n"
     ]
    },
    {
     "data": {
      "text/html": [
       "<div><iframe src=\"http://127.0.0.1:7863/\" width=\"100%\" height=\"500\" allow=\"autoplay; camera; microphone; clipboard-read; clipboard-write;\" frameborder=\"0\" allowfullscreen></iframe></div>"
      ],
      "text/plain": [
       "<IPython.core.display.HTML object>"
      ]
     },
     "metadata": {},
     "output_type": "display_data"
    },
    {
     "data": {
      "text/plain": []
     },
     "execution_count": 2,
     "metadata": {},
     "output_type": "execute_result"
    }
   ],
   "source": [
    "import numpy as np\n",
    "import gradio as gr\n",
    "\n",
    "def outList():\n",
    "    r = np.random.randint(0, 10, (10000, 10)).tolist()\n",
    "    return r\n",
    "\n",
    "def outDataFrame():\n",
    "    r = np.random.randint(0, 10, (10000, 10)).tolist()\n",
    "    return gr.DataFrame(value=r)\n",
    "\n",
    "def outUpdate():\n",
    "    r = np.random.randint(0, 10, (10000, 10)).tolist()\n",
    "    return gr.update(value=r)\n",
    "\n",
    "with gr.Blocks() as demo:\n",
    "    with gr.Row():\n",
    "        useList = gr.Button(\"Use np.tolist\")\n",
    "        useDataFrame = gr.Button(\"Use gr.DataFrame\")\n",
    "        useUpdate = gr.Button(\"Use gr.update\")\n",
    "    with gr.Row():\n",
    "        out = gr.Dataframe()\n",
    "    useList.click(fn=outList, inputs=None, outputs=out)\n",
    "    useDataFrame.click(fn=outDataFrame, inputs=None, outputs=out)\n",
    "    useUpdate.click(fn=outUpdate, inputs=None, outputs=out)\n",
    "\n",
    "demo.launch()"
   ]
  },
  {
   "cell_type": "code",
   "execution_count": null,
   "id": "0fc7c54a-bfec-4e6c-a2a9-a98aa95cc0e1",
   "metadata": {},
   "outputs": [],
   "source": []
  }
 ],
 "metadata": {
  "kernelspec": {
   "display_name": "Python 3 (ipykernel)",
   "language": "python",
   "name": "python3"
  },
  "language_info": {
   "codemirror_mode": {
    "name": "ipython",
    "version": 3
   },
   "file_extension": ".py",
   "mimetype": "text/x-python",
   "name": "python",
   "nbconvert_exporter": "python",
   "pygments_lexer": "ipython3",
   "version": "3.13.7"
  }
 },
 "nbformat": 4,
 "nbformat_minor": 5
}
