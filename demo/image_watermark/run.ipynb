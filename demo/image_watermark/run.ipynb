{
 "cells": [
  {
   "cell_type": "code",
   "execution_count": null,
   "id": "e8ff8484",
   "metadata": {},
   "outputs": [],
   "source": [
    "import gradio as gr\n",
    "import os"
   ]
  },
  {
   "cell_type": "code",
   "execution_count": null,
   "id": "a88e0877",
   "metadata": {},
   "outputs": [],
   "source": [
    "# Base files for formats [jpeg, jpg, png]\n",
    "base_a = os.path.join(os.path.dirname(__file__), \"files/groot.jpeg\")\n",
    "base_b = os.path.join(os.path.dirname(__file__), \"files/cheetah.jpg\")\n",
    "base_c = os.path.join(os.path.dirname(__file__), \"files/lion.png\")\n",
    "base_d = os.path.join(os.path.dirname(__file__), \"files/bird.bmp\")"
   ]
  },
  {
   "cell_type": "code",
   "execution_count": null,
   "id": "ecdcd6c8",
   "metadata": {
    "lines_to_next_cell": 1
   },
   "outputs": [],
   "source": [
    "watermark_a = os.path.join(os.path.dirname(__file__), \"files/hf-logo_jpeg.jpeg\")\n",
    "watermark_b = os.path.join(os.path.dirname(__file__), \"files/frog.jpg\")\n",
    "watermark_c = os.path.join(os.path.dirname(__file__), \"files/logo_nontrans.png\")\n",
    "watermark_d = os.path.join(os.path.dirname(__file__), \"files/logo.png\")\n",
    "watermark_e = os.path.join(os.path.dirname(__file__), \"files/bird.bmp\")"
   ]
  },
  {
   "cell_type": "code",
   "execution_count": null,
   "id": "01a5fab8",
   "metadata": {
    "lines_to_next_cell": 1
   },
   "outputs": [],
   "source": [
    "def generate_image(original_image, watermark):\n",
    "    return gr.Image(original_image, watermark=watermark)"
   ]
  },
  {
   "cell_type": "code",
   "execution_count": null,
   "id": "f1cd7005",
   "metadata": {},
   "outputs": [],
   "source": [
    "demo = gr.Interface(generate_image, [gr.Image(type='filepath', image_mode=None), gr.Image(type='filepath', image_mode=None)], gr.Image(),\n",
    "                    examples=[[base_a, watermark_a], [base_b, watermark_b], [base_c, watermark_c], [base_a, watermark_d], [base_b, watermark_e], [base_c, watermark_a], [base_d, watermark_a], [base_d, watermark_d]])"
   ]
  },
  {
   "cell_type": "code",
   "execution_count": null,
   "id": "be3203bc",
   "metadata": {},
   "outputs": [],
   "source": [
    "if __name__ == \"__main__\":\n",
    "    demo.launch()"
   ]
  }
 ],
 "metadata": {
  "jupytext": {
   "cell_metadata_filter": "-all",
   "main_language": "python",
   "notebook_metadata_filter": "-all"
  }
 },
 "nbformat": 4,
 "nbformat_minor": 5
}
