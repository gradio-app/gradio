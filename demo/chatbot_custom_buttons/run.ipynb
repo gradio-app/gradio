{
 "cells": [
  {
   "cell_type": "markdown",
   "id": "302934307671667531413257853548643485645",
   "metadata": {},
   "source": [
    "# Gradio Demo: chatbot_custom_buttons"
   ]
  },
  {
   "cell_type": "code",
   "execution_count": null,
   "id": "272996653310673477252411125948039410165",
   "metadata": {},
   "outputs": [],
   "source": [
    "!pip install -q gradio "
   ]
  },
  {
   "cell_type": "code",
   "execution_count": null,
   "id": "288918539441861185822528903084949547379",
   "metadata": {},
   "outputs": [],
   "source": [
    "import gradio as gr\n",
    "import copy\n",
    "\n",
    "def handle_custom_button(data: gr.CustomButtonsData, history: list[gr.MessageDict]):\n",
    "    if data.label == \"Example1\":\n",
    "        return duplicate_chat(history)\n",
    "    elif data.label == \"Example2\":\n",
    "        return fill_all_messages(data, history)\n",
    "    #Doesn't change the history in chatbot (just change a copy)\n",
    "    else:\n",
    "        delete_all_messages(copy.deepcopy(history)) \n",
    "        return history \n",
    "\n",
    "def duplicate_chat(history: list[gr.MessageDict]):\n",
    "    return [item for item in history for _ in range(2)]\n",
    "\n",
    "def fill_all_messages(data: gr.CustomButtonsData, history: list[gr.MessageDict]):\n",
    "    value = data.values[0]\n",
    "    for message in history:\n",
    "        message['content'] = value\n",
    "        \n",
    "    return history\n",
    "\n",
    "def delete_all_messages(history: list[gr.MessageDict]):\n",
    "    return history[:0]\n",
    "\n",
    "examples = [\n",
    "    {\"role\": \"user\", \"content\": \"User message 1.\"},\n",
    "    {\"role\": \"user\", \"content\": \"User message 2.\"},\n",
    "    {\"role\": \"assistant\", \"content\": \"Chatbot message 1.\"},\n",
    "]\n",
    "\n",
    "with gr.Blocks() as demo:\n",
    "    with gr.Row():\n",
    "        chatbot = gr.Chatbot(\n",
    "            type=\"messages\",\n",
    "            custom_buttons=[\n",
    "                {\n",
    "                    \"label\": \"Example1\",\n",
    "                    \"icon\": \"ArrowUp\",\n",
    "                    \"visible\": \"chatbot\",\n",
    "                },\n",
    "                {\n",
    "                    \"label\": \"Example2\",\n",
    "                    \"visible\": \"user\",\n",
    "                    \"icon\": \"Chat\",\n",
    "                },\n",
    "                {\n",
    "                    \"label\": \"Example3\",\n",
    "                },\n",
    "            ],\n",
    "        )\n",
    "    with gr.Row():\n",
    "        concatenated_text = gr.Textbox(label=\"Concatenated Chat\")\n",
    "    chatbot.custom_button(handle_custom_button, chatbot, chatbot)\n",
    "\n",
    "    chatbot.change(lambda m: \"|\".join(m[\"content\"] for m in m), chatbot, concatenated_text)\n",
    "\n",
    "    demo.load(lambda: examples, None, chatbot)\n",
    "\n",
    "if __name__ == \"__main__\":\n",
    "    demo.launch()"
   ]
  }
 ],
 "metadata": {
  "language_info": {
   "name": "python"
  }
 },
 "nbformat": 4,
 "nbformat_minor": 5
}
