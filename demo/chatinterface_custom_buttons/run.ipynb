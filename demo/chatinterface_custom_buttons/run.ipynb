{
 "cells": [
  {
   "cell_type": "markdown",
   "id": "302934307671667531413257853548643485645",
   "metadata": {},
   "source": [
    "# Gradio Demo: chatinterface_custom_buttons"
   ]
  },
  {
   "cell_type": "code",
   "execution_count": null,
   "id": "272996653310673477252411125948039410165",
   "metadata": {},
   "outputs": [],
   "source": [
    "!pip install -q gradio "
   ]
  },
  {
   "cell_type": "code",
   "execution_count": null,
   "id": "288918539441861185822528903084949547379",
   "metadata": {},
   "outputs": [],
   "source": [
    "import gradio as gr\n",
    "import random\n",
    "\n",
    "def create_tuple_messages(data: gr.CustomButtonsData, history: list[gr.MessageDict]):\n",
    "    return [[\"User message\", \"Chatbot message\"]]\n",
    "\n",
    "def random_response(message, history):\n",
    "    return random.choice([\"Yes\", \"No\"])\n",
    "\n",
    "examples = [\n",
    "    {\"role\": \"user\", \"content\": \"User message 1.\"},\n",
    "    {\"role\": \"user\", \"content\": \"User message 2.\"},\n",
    "    {\"role\": \"assistant\", \"content\": \"Chatbot message 1.\"},\n",
    "]\n",
    "\n",
    "with gr.Blocks() as demo:\n",
    "    with gr.Row():\n",
    "        chat_interface = gr.ChatInterface(\n",
    "            fn=random_response,\n",
    "            type=\"messages\",\n",
    "            custom_buttons=[\n",
    "                {\n",
    "                    \"label\": \"Example1\",\n",
    "                    \"visible\": \"chatbot\",\n",
    "                    \"on_click\": create_tuple_messages\n",
    "                },\n",
    "                {\n",
    "                    \"label\": \"Example2\"\n",
    "                },\n",
    "            ],\n",
    "        )\n",
    "\n",
    "    with gr.Row():\n",
    "        concatenated_text = gr.Textbox(label=\"Concatenated Chat\")\n",
    "\n",
    "    chat_interface.chatbot.change(lambda m: \"|\".join(m[\"content\"] for m in m), chat_interface.chatbot, concatenated_text)\n",
    "\n",
    "    demo.load(lambda: examples, None, chat_interface.chatbot)\n",
    "\n",
    "if __name__ == \"__main__\":\n",
    "    demo.launch()\n"
   ]
  }
 ],
 "metadata": {
  "language_info": {
   "name": "python"
  }
 },
 "nbformat": 4,
 "nbformat_minor": 5
}
